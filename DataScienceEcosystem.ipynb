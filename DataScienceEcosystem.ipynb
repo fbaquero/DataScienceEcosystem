{
 "cells": [
  {
   "cell_type": "markdown",
   "id": "357fc991-58db-4e38-b058-026e26ebd126",
   "metadata": {},
   "source": [
    "# Data Science Tools and Ecosystem"
   ]
  },
  {
   "cell_type": "markdown",
   "id": "59efd310-e73b-4bc3-b50b-df2de8610429",
   "metadata": {},
   "source": [
    "En este notebook, se resumen las herramientas y ecosistemas de la ciencia de datos."
   ]
  },
  {
   "cell_type": "markdown",
   "id": "3917d14e-f6ae-406d-843f-aabc22ca3fee",
   "metadata": {},
   "source": [
    "**Objetivos:**\n",
    "\n",
    "- Listar lenguajes populares para Ciencia de Datos.\n",
    "- Enumerar bibliotecas comunes utilizadas en Ciencia de Datos.\n",
    "- Crear una tabla de herramientas de Ciencia de Datos.\n",
    "- Evaluar expresiones aritméticas en Python.\n",
    "- Convertir minutos en horas en Python."
   ]
  },
  {
   "cell_type": "code",
   "execution_count": null,
   "id": "2dbb5d19-87de-444f-b932-09c6e1b73981",
   "metadata": {},
   "outputs": [],
   "source": [
    "## Autor\n",
    "FBaquero"
   ]
  },
  {
   "cell_type": "markdown",
   "id": "2b0f2b1b-4864-439b-b6de-6e27789766d3",
   "metadata": {},
   "source": [
    "Algunos de los lenguajes populares que usan los científicos de datos son:\n",
    "\n",
    "1. Python\n",
    "2. R\n",
    "3. SQL"
   ]
  },
  {
   "cell_type": "markdown",
   "id": "7c828436-0b75-4c4b-9bf6-0eaeb72d01eb",
   "metadata": {},
   "source": [
    "Algunas de las bibliotecas comúnmente utilizadas por los científicos de datos incluyen:\n",
    "\n",
    "1. Pandas\n",
    "2. NumPy\n",
    "3. Matplotlib"
   ]
  },
  {
   "cell_type": "markdown",
   "id": "6a70c925-d29a-4400-b35f-d7ee9bbe44a9",
   "metadata": {},
   "source": [
    "| Data Science Tools |\n",
    "|--------------------|\n",
    "| Jupyter Notebook   |\n",
    "| RStudio            |\n",
    "| Apache Spark       |"
   ]
  },
  {
   "cell_type": "markdown",
   "id": "e6a89cd0-1b11-437e-8844-0c6804c24f09",
   "metadata": {},
   "source": [
    "### Abajo se encuentran algunos ejemplos de evaluación de expresiones aritméticas en Python."
   ]
  },
  {
   "cell_type": "code",
   "execution_count": 1,
   "id": "7c09b4a3-eb9f-4034-a2bf-c48517ce8ce1",
   "metadata": {},
   "outputs": [
    {
     "data": {
      "text/plain": [
       "17"
      ]
     },
     "execution_count": 1,
     "metadata": {},
     "output_type": "execute_result"
    }
   ],
   "source": [
    "# Esta es una expresión aritmética simple para multiplicar y luego sumar enteros\n",
    "resultado = (3 * 4) + 5\n",
    "resultado"
   ]
  },
  {
   "cell_type": "code",
   "execution_count": 2,
   "id": "4e906355-fc1e-437e-b52c-dcc48d27afee",
   "metadata": {},
   "outputs": [
    {
     "data": {
      "text/plain": [
       "3.3333333333333335"
      ]
     },
     "execution_count": 2,
     "metadata": {},
     "output_type": "execute_result"
    }
   ],
   "source": [
    "# Esto convertirá 200 minutos a horas dividiendo entre 60\n",
    "horas = 200 / 60\n",
    "horas"
   ]
  },
  {
   "cell_type": "code",
   "execution_count": null,
   "id": "fd52ded1-31ad-4e73-828a-f1af121bfaf2",
   "metadata": {},
   "outputs": [],
   "source": []
  }
 ],
 "metadata": {
  "kernelspec": {
   "display_name": "Python 3 (ipykernel)",
   "language": "python",
   "name": "python3"
  },
  "language_info": {
   "codemirror_mode": {
    "name": "ipython",
    "version": 3
   },
   "file_extension": ".py",
   "mimetype": "text/x-python",
   "name": "python",
   "nbconvert_exporter": "python",
   "pygments_lexer": "ipython3",
   "version": "3.11.9"
  }
 },
 "nbformat": 4,
 "nbformat_minor": 5
}
